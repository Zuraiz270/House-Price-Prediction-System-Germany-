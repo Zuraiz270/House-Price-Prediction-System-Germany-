{
 "cells": [
  {
   "cell_type": "code",
   "execution_count": 36,
   "metadata": {
    "_cell_guid": "b1076dfc-b9ad-4769-8c92-a6c4dae69d19",
    "_uuid": "8f2839f25d086af736a60e9eeb907d3b93b6e0e5",
    "execution": {
     "iopub.execute_input": "2024-12-30T02:01:20.967343Z",
     "iopub.status.busy": "2024-12-30T02:01:20.966971Z",
     "iopub.status.idle": "2024-12-30T02:01:20.976175Z",
     "shell.execute_reply": "2024-12-30T02:01:20.974840Z",
     "shell.execute_reply.started": "2024-12-30T02:01:20.967313Z"
    },
    "trusted": true
   },
   "outputs": [],
   "source": [
    "# This Python 3 environment comes with many helpful analytics libraries installed\n",
    "# It is defined by the kaggle/python Docker image: https://github.com/kaggle/docker-python\n",
    "# For example, here's several helpful packages to load\n",
    "\n",
    "import numpy as np # linear algebra\n",
    "import pandas as pd # data processing, CSV file I/O (e.g. pd.read_csv)\n",
    "\n",
    "# Input data files are available in the read-only \"../input/\" directory\n",
    "# For example, running this (by clicking run or pressing Shift+Enter) will list all files under the input directory\n",
    "\n",
    "# import os\n",
    "# for dirname, _, filenames in os.walk('/kaggle/input'):\n",
    "#     for filename in filenames:\n",
    "#         print(os.path.join(dirname, filename))\n",
    "\n",
    "# You can write up to 20GB to the current directory (/kaggle/working/) that gets preserved as output when you create a version using \"Save & Run All\" \n",
    "# You can also write temporary files to /kaggle/temp/, but they won't be saved outside of the current session"
   ]
  },
  {
   "cell_type": "code",
   "execution_count": null,
   "metadata": {
    "execution": {
     "iopub.execute_input": "2024-12-30T02:01:22.703723Z",
     "iopub.status.busy": "2024-12-30T02:01:22.703376Z",
     "iopub.status.idle": "2024-12-30T02:01:22.718219Z",
     "shell.execute_reply": "2024-12-30T02:01:22.716769Z",
     "shell.execute_reply.started": "2024-12-30T02:01:22.703697Z"
    },
    "trusted": true
   },
   "outputs": [],
   "source": [
    "#Lead the dataset\n",
    "FILE_PATH=\"data.csv\"\n",
    "houses = pd.read_csv(FILE_PATH)\n",
    "houses.shape"
   ]
  },
  {
   "cell_type": "code",
   "execution_count": null,
   "metadata": {
    "execution": {
     "iopub.execute_input": "2024-12-30T02:01:24.332642Z",
     "iopub.status.busy": "2024-12-30T02:01:24.332301Z",
     "iopub.status.idle": "2024-12-30T02:01:24.353129Z",
     "shell.execute_reply": "2024-12-30T02:01:24.352005Z",
     "shell.execute_reply.started": "2024-12-30T02:01:24.332615Z"
    },
    "trusted": true
   },
   "outputs": [],
   "source": [
    "#Privew Dataset\n",
    "houses.info()\n",
    "houses.sample(5)"
   ]
  },
  {
   "cell_type": "code",
   "execution_count": null,
   "metadata": {
    "execution": {
     "iopub.execute_input": "2024-12-30T02:01:28.254180Z",
     "iopub.status.busy": "2024-12-30T02:01:28.253833Z",
     "iopub.status.idle": "2024-12-30T02:01:28.263268Z",
     "shell.execute_reply": "2024-12-30T02:01:28.262203Z",
     "shell.execute_reply.started": "2024-12-30T02:01:28.254152Z"
    },
    "trusted": true
   },
   "outputs": [],
   "source": [
    "#Data Cleaning\n",
    "houses.isnull().sum()"
   ]
  },
  {
   "cell_type": "code",
   "execution_count": 40,
   "metadata": {
    "execution": {
     "iopub.execute_input": "2024-12-30T02:01:30.472833Z",
     "iopub.status.busy": "2024-12-30T02:01:30.472317Z",
     "iopub.status.idle": "2024-12-30T02:01:30.482137Z",
     "shell.execute_reply": "2024-12-30T02:01:30.480901Z",
     "shell.execute_reply.started": "2024-12-30T02:01:30.472793Z"
    },
    "trusted": true
   },
   "outputs": [],
   "source": [
    "#Removing Duplicates\n",
    "houses = pd.DataFrame.drop_duplicates(houses)"
   ]
  },
  {
   "cell_type": "code",
   "execution_count": null,
   "metadata": {
    "execution": {
     "iopub.execute_input": "2024-12-30T02:01:32.945181Z",
     "iopub.status.busy": "2024-12-30T02:01:32.944774Z",
     "iopub.status.idle": "2024-12-30T02:01:32.955672Z",
     "shell.execute_reply": "2024-12-30T02:01:32.954162Z",
     "shell.execute_reply.started": "2024-12-30T02:01:32.945145Z"
    },
    "trusted": true
   },
   "outputs": [],
   "source": [
    "houses.isnull().sum()"
   ]
  },
  {
   "cell_type": "code",
   "execution_count": null,
   "metadata": {
    "execution": {
     "iopub.execute_input": "2024-12-30T02:01:35.452531Z",
     "iopub.status.busy": "2024-12-30T02:01:35.452106Z",
     "iopub.status.idle": "2024-12-30T02:01:35.465397Z",
     "shell.execute_reply": "2024-12-30T02:01:35.464258Z",
     "shell.execute_reply.started": "2024-12-30T02:01:35.452487Z"
    },
    "trusted": true
   },
   "outputs": [],
   "source": [
    "houses.shape\n",
    "houses.head()"
   ]
  },
  {
   "cell_type": "code",
   "execution_count": 43,
   "metadata": {
    "execution": {
     "iopub.execute_input": "2024-12-30T02:01:37.819126Z",
     "iopub.status.busy": "2024-12-30T02:01:37.818727Z",
     "iopub.status.idle": "2024-12-30T02:01:37.826341Z",
     "shell.execute_reply": "2024-12-30T02:01:37.824408Z",
     "shell.execute_reply.started": "2024-12-30T02:01:37.819094Z"
    },
    "trusted": true
   },
   "outputs": [],
   "source": [
    "houses = houses.drop(columns=['Unnamed: 0'])"
   ]
  },
  {
   "cell_type": "code",
   "execution_count": null,
   "metadata": {
    "execution": {
     "iopub.execute_input": "2024-12-30T02:01:40.076890Z",
     "iopub.status.busy": "2024-12-30T02:01:40.076348Z",
     "iopub.status.idle": "2024-12-30T02:01:40.087331Z",
     "shell.execute_reply": "2024-12-30T02:01:40.085899Z",
     "shell.execute_reply.started": "2024-12-30T02:01:40.076851Z"
    },
    "trusted": true
   },
   "outputs": [],
   "source": [
    "houses.isnull().sum()"
   ]
  },
  {
   "cell_type": "code",
   "execution_count": null,
   "metadata": {
    "execution": {
     "iopub.execute_input": "2024-12-30T02:01:41.776133Z",
     "iopub.status.busy": "2024-12-30T02:01:41.774993Z",
     "iopub.status.idle": "2024-12-30T02:01:41.799203Z",
     "shell.execute_reply": "2024-12-30T02:01:41.797619Z",
     "shell.execute_reply.started": "2024-12-30T02:01:41.776085Z"
    },
    "trusted": true
   },
   "outputs": [],
   "source": [
    "#Remove ',' and '.' from columns 'sold_at' & 'limit_price'\n",
    "houses['sold_at'] = pd.to_numeric(\n",
    "    houses['sold_at']\n",
    "    .astype(str)\n",
    "    .str.replace('.', '', regex=False)\n",
    "    .str.replace(',', '.', regex=False),\n",
    "    errors='coerce'\n",
    ")\n",
    "\n",
    "houses['limit_price'] = pd.to_numeric(\n",
    "    houses['limit_price']\n",
    "    .astype(str)\n",
    "    .str.replace('.', '', regex=False)\n",
    "    .str.replace(',', '.', regex=False),\n",
    "    errors='coerce'\n",
    ")\n",
    "\n",
    "houses.head()"
   ]
  },
  {
   "cell_type": "code",
   "execution_count": null,
   "metadata": {
    "execution": {
     "iopub.execute_input": "2024-12-30T02:01:44.924457Z",
     "iopub.status.busy": "2024-12-30T02:01:44.924028Z",
     "iopub.status.idle": "2024-12-30T02:01:44.947281Z",
     "shell.execute_reply": "2024-12-30T02:01:44.945067Z",
     "shell.execute_reply.started": "2024-12-30T02:01:44.924419Z"
    },
    "trusted": true
   },
   "outputs": [],
   "source": [
    "# Convert 'status' to categorical and encode as numeric.\n",
    "houses['status'] = houses['status'].astype('category').cat.codes\n",
    "houses.head()"
   ]
  },
  {
   "cell_type": "code",
   "execution_count": null,
   "metadata": {
    "execution": {
     "iopub.execute_input": "2024-12-30T02:02:05.510810Z",
     "iopub.status.busy": "2024-12-30T02:02:05.510379Z",
     "iopub.status.idle": "2024-12-30T02:02:19.924833Z",
     "shell.execute_reply": "2024-12-30T02:02:19.923371Z",
     "shell.execute_reply.started": "2024-12-30T02:02:05.510773Z"
    },
    "trusted": true
   },
   "outputs": [],
   "source": [
    "# Load the German language model for named entity recognition (NER)\n",
    "import spacy\n",
    "nlp = spacy.load(\"de_core_news_sm\")  \n",
    "\n",
    "# Function to extract named entities from text (e.g., location, property type)\n",
    "def extract_entities(text):\n",
    "    doc = nlp(text)  # Process the text using SpaCy's NLP pipeline\n",
    "    return [(ent.text, ent.label_) for ent in doc.ents]  # Return entity text and label\n",
    "\n",
    "# Apply the function to the 'info' column to extract entities for each house description\n",
    "houses['house_features'] = houses['info'].apply(extract_entities)\n",
    "\n",
    "# Configure Pandas to display full content of columns without truncation\n",
    "pd.set_option('display.max_colwidth', None)  \n",
    "houses = houses.drop(columns=['info'])\n",
    "\n",
    "# Display a random sample of 5 rows with house descriptions and their extracted features\n",
    "print(houses['house_features'].sample(5))\n"
   ]
  },
  {
   "cell_type": "code",
   "execution_count": null,
   "metadata": {
    "execution": {
     "iopub.execute_input": "2024-12-30T02:02:22.140434Z",
     "iopub.status.busy": "2024-12-30T02:02:22.139996Z",
     "iopub.status.idle": "2024-12-30T02:02:22.162915Z",
     "shell.execute_reply": "2024-12-30T02:02:22.161096Z",
     "shell.execute_reply.started": "2024-12-30T02:02:22.140389Z"
    },
    "trusted": true
   },
   "outputs": [],
   "source": [
    "houses.sample(10)"
   ]
  },
  {
   "cell_type": "code",
   "execution_count": 49,
   "metadata": {
    "execution": {
     "iopub.execute_input": "2024-12-30T02:02:27.664338Z",
     "iopub.status.busy": "2024-12-30T02:02:27.663889Z",
     "iopub.status.idle": "2024-12-30T02:02:27.673064Z",
     "shell.execute_reply": "2024-12-30T02:02:27.671643Z",
     "shell.execute_reply.started": "2024-12-30T02:02:27.664301Z"
    },
    "trusted": true
   },
   "outputs": [],
   "source": [
    "features = ['status', 'limit_price', 'house_features']\n",
    "target = 'sold_at'\n",
    "x = houses[features]\n",
    "y = houses[target]"
   ]
  },
  {
   "cell_type": "code",
   "execution_count": 50,
   "metadata": {
    "execution": {
     "iopub.execute_input": "2024-12-30T02:02:33.797350Z",
     "iopub.status.busy": "2024-12-30T02:02:33.796801Z",
     "iopub.status.idle": "2024-12-30T02:02:33.804058Z",
     "shell.execute_reply": "2024-12-30T02:02:33.802440Z",
     "shell.execute_reply.started": "2024-12-30T02:02:33.797307Z"
    },
    "trusted": true
   },
   "outputs": [],
   "source": [
    "import sklearn\n",
    "from sklearn.model_selection import train_test_split\n",
    "from sklearn.ensemble import RandomForestRegressor\n",
    "from sklearn.metrics import mean_squared_error, r2_score"
   ]
  },
  {
   "cell_type": "code",
   "execution_count": 51,
   "metadata": {
    "execution": {
     "iopub.execute_input": "2024-12-30T02:02:37.563920Z",
     "iopub.status.busy": "2024-12-30T02:02:37.563421Z",
     "iopub.status.idle": "2024-12-30T02:02:37.575545Z",
     "shell.execute_reply": "2024-12-30T02:02:37.574212Z",
     "shell.execute_reply.started": "2024-12-30T02:02:37.563885Z"
    },
    "trusted": true
   },
   "outputs": [],
   "source": [
    "# Split the dataset into training and testing sets\n",
    "X_train, X_test, y_train, y_test = train_test_split(x, y, test_size=0.2, random_state=42)"
   ]
  },
  {
   "cell_type": "code",
   "execution_count": 52,
   "metadata": {
    "execution": {
     "iopub.execute_input": "2024-12-30T02:02:40.550824Z",
     "iopub.status.busy": "2024-12-30T02:02:40.550472Z",
     "iopub.status.idle": "2024-12-30T02:02:40.563409Z",
     "shell.execute_reply": "2024-12-30T02:02:40.562034Z",
     "shell.execute_reply.started": "2024-12-30T02:02:40.550796Z"
    },
    "trusted": true
   },
   "outputs": [],
   "source": [
    "# Example: Convert list elements into strings\n",
    "\n",
    "# Convert list elements into strings\n",
    "X_train['house_features'] = X_train['house_features'].apply(\n",
    "    lambda x: ', '.join([str(item) for item in x]) if isinstance(x, list) else str(x)\n",
    ")\n",
    "X_test['house_features'] = X_test['house_features'].apply(\n",
    "    lambda x: ', '.join([str(item) for item in x]) if isinstance(x, list) else str(x)\n",
    ")"
   ]
  },
  {
   "cell_type": "code",
   "execution_count": null,
   "metadata": {
    "execution": {
     "iopub.execute_input": "2024-12-30T02:02:43.500124Z",
     "iopub.status.busy": "2024-12-30T02:02:43.499689Z",
     "iopub.status.idle": "2024-12-30T02:02:43.510236Z",
     "shell.execute_reply": "2024-12-30T02:02:43.509069Z",
     "shell.execute_reply.started": "2024-12-30T02:02:43.500087Z"
    },
    "trusted": true
   },
   "outputs": [],
   "source": [
    "print(X_train.sample(1))"
   ]
  },
  {
   "cell_type": "code",
   "execution_count": null,
   "metadata": {
    "execution": {
     "iopub.execute_input": "2024-12-30T02:02:48.798201Z",
     "iopub.status.busy": "2024-12-30T02:02:48.797778Z",
     "iopub.status.idle": "2024-12-30T02:02:48.832539Z",
     "shell.execute_reply": "2024-12-30T02:02:48.830601Z",
     "shell.execute_reply.started": "2024-12-30T02:02:48.798167Z"
    },
    "trusted": true
   },
   "outputs": [],
   "source": [
    "# Perform one-hot encoding for house_features\n",
    "X_train = pd.get_dummies(X_train, columns=['house_features'], drop_first=True)\n",
    "X_test = pd.get_dummies(X_test, columns=['house_features'], drop_first=True)\n",
    "\n",
    "print(X_train.sample(1))"
   ]
  },
  {
   "cell_type": "code",
   "execution_count": 55,
   "metadata": {
    "execution": {
     "iopub.execute_input": "2024-12-30T02:02:54.016283Z",
     "iopub.status.busy": "2024-12-30T02:02:54.015870Z",
     "iopub.status.idle": "2024-12-30T02:02:54.026198Z",
     "shell.execute_reply": "2024-12-30T02:02:54.024808Z",
     "shell.execute_reply.started": "2024-12-30T02:02:54.016236Z"
    },
    "trusted": true
   },
   "outputs": [],
   "source": [
    "# Align the columns in X_train and X_test\n",
    "X_train, X_test = X_train.align(X_test, join='left', axis=1)\n",
    "\n",
    "# Fill missing columns in X_test with zeros\n",
    "X_test = X_test.fillna(0)\n"
   ]
  },
  {
   "cell_type": "code",
   "execution_count": null,
   "metadata": {
    "trusted": true
   },
   "outputs": [],
   "source": [
    "X_train.isnull().sum()"
   ]
  },
  {
   "cell_type": "code",
   "execution_count": null,
   "metadata": {
    "execution": {
     "iopub.execute_input": "2024-12-30T02:03:22.065000Z",
     "iopub.status.busy": "2024-12-30T02:03:22.064636Z",
     "iopub.status.idle": "2024-12-30T02:03:22.073705Z",
     "shell.execute_reply": "2024-12-30T02:03:22.071940Z",
     "shell.execute_reply.started": "2024-12-30T02:03:22.064972Z"
    },
    "trusted": true
   },
   "outputs": [],
   "source": [
    "y_train.isnull().sum()"
   ]
  },
  {
   "cell_type": "code",
   "execution_count": 58,
   "metadata": {
    "execution": {
     "iopub.execute_input": "2024-12-30T02:03:28.754029Z",
     "iopub.status.busy": "2024-12-30T02:03:28.753625Z",
     "iopub.status.idle": "2024-12-30T02:03:28.763337Z",
     "shell.execute_reply": "2024-12-30T02:03:28.762202Z",
     "shell.execute_reply.started": "2024-12-30T02:03:28.753997Z"
    },
    "trusted": true
   },
   "outputs": [],
   "source": [
    "X_train = X_train.dropna()\n",
    "y_train = y_train.dropna()"
   ]
  },
  {
   "cell_type": "code",
   "execution_count": 59,
   "metadata": {
    "execution": {
     "iopub.execute_input": "2024-12-30T02:03:30.993290Z",
     "iopub.status.busy": "2024-12-30T02:03:30.992943Z",
     "iopub.status.idle": "2024-12-30T02:03:31.000726Z",
     "shell.execute_reply": "2024-12-30T02:03:30.999222Z",
     "shell.execute_reply.started": "2024-12-30T02:03:30.993262Z"
    },
    "trusted": true
   },
   "outputs": [],
   "source": [
    "y_train.isnull().sum()\n",
    "\n",
    "# download X_train as pkl\n",
    "import pickle\n",
    "with open('X_train.pkl', 'wb') as f:\n",
    "    pickle.dump(X_train, f)"
   ]
  },
  {
   "cell_type": "code",
   "execution_count": null,
   "metadata": {
    "execution": {
     "iopub.execute_input": "2024-12-30T02:03:34.804768Z",
     "iopub.status.busy": "2024-12-30T02:03:34.804372Z",
     "iopub.status.idle": "2024-12-30T02:03:38.106709Z",
     "shell.execute_reply": "2024-12-30T02:03:38.105130Z",
     "shell.execute_reply.started": "2024-12-30T02:03:34.804721Z"
    },
    "trusted": true
   },
   "outputs": [],
   "source": [
    "# Train the Random Forest model\n",
    "rf_model = RandomForestRegressor(n_estimators=100, random_state=42)\n",
    "rf_model.fit(X_train, y_train)"
   ]
  },
  {
   "cell_type": "code",
   "execution_count": null,
   "metadata": {
    "execution": {
     "iopub.execute_input": "2024-12-30T02:03:43.292656Z",
     "iopub.status.busy": "2024-12-30T02:03:43.292278Z",
     "iopub.status.idle": "2024-12-30T02:03:43.337505Z",
     "shell.execute_reply": "2024-12-30T02:03:43.335845Z",
     "shell.execute_reply.started": "2024-12-30T02:03:43.292615Z"
    },
    "trusted": true
   },
   "outputs": [],
   "source": [
    "# Create a default template with all features set to default values\n",
    "default_input = pd.DataFrame({col: [False] if col.startswith(\"house_features_\") else [0] for col in X_train})\n",
    "\n",
    "# Update the relevant columns with user-provided input\n",
    "user_input = {\n",
    "    \n",
    "    \"limit_price\": 150000,\n",
    "    # Activate specific house features based on input\n",
    "    \"house_features_('Alleinlage Schönerstädt', 'LOC')\": True,\n",
    "    \"house_features_('attraktives Mehrfamilienhaus', 'PER'), ('Paul-Gruner-Straße', 'LOC'), ('Chemnitz', 'LOC')\": True,\n",
    "}\n",
    "\n",
    "# Update default input with user-provided values\n",
    "for key, value in user_input.items():\n",
    "    if key in default_input.columns:\n",
    "        default_input[key] = value\n",
    "\n",
    "# Predict house price using the trained model\n",
    "predicted_price = rf_model.predict(default_input)\n",
    "\n",
    "# Display the result\n",
    "print(f\"Predicted House Price: {predicted_price[0]}\")"
   ]
  },
  {
   "cell_type": "code",
   "execution_count": null,
   "metadata": {
    "execution": {
     "iopub.execute_input": "2024-12-30T02:03:47.204224Z",
     "iopub.status.busy": "2024-12-30T02:03:47.203869Z",
     "iopub.status.idle": "2024-12-30T02:03:47.241506Z",
     "shell.execute_reply": "2024-12-30T02:03:47.240222Z",
     "shell.execute_reply.started": "2024-12-30T02:03:47.204197Z"
    },
    "trusted": true
   },
   "outputs": [],
   "source": [
    "# Evaluate the model\n",
    "y_pred = rf_model.predict(X_test)\n",
    "print(y_pred)"
   ]
  },
  {
   "cell_type": "code",
   "execution_count": null,
   "metadata": {
    "execution": {
     "iopub.execute_input": "2024-12-30T02:03:54.104768Z",
     "iopub.status.busy": "2024-12-30T02:03:54.104372Z",
     "iopub.status.idle": "2024-12-30T02:03:54.113371Z",
     "shell.execute_reply": "2024-12-30T02:03:54.112011Z",
     "shell.execute_reply.started": "2024-12-30T02:03:54.104735Z"
    },
    "trusted": true
   },
   "outputs": [],
   "source": [
    "# Example metrics\n",
    "from sklearn.metrics import mean_squared_error, r2_score\n",
    "print(\"Mean Squared Error:\", mean_squared_error(y_test, y_pred))\n",
    "print(\"R-squared:\", r2_score(y_test, y_pred))"
   ]
  },
  {
   "cell_type": "code",
   "execution_count": 64,
   "metadata": {
    "execution": {
     "iopub.execute_input": "2024-12-30T02:07:09.337807Z",
     "iopub.status.busy": "2024-12-30T02:07:09.337394Z",
     "iopub.status.idle": "2024-12-30T02:07:09.362145Z",
     "shell.execute_reply": "2024-12-30T02:07:09.360719Z",
     "shell.execute_reply.started": "2024-12-30T02:07:09.337779Z"
    },
    "trusted": true
   },
   "outputs": [],
   "source": [
    "# Save the model\n",
    "pickle.dump(rf_model, open('rf_model.pkl', 'wb'))"
   ]
  }
 ],
 "metadata": {
  "kaggle": {
   "accelerator": "none",
   "dataSources": [
    {
     "datasetId": 1898849,
     "sourceId": 3110913,
     "sourceType": "datasetVersion"
    }
   ],
   "dockerImageVersionId": 30822,
   "isGpuEnabled": false,
   "isInternetEnabled": true,
   "language": "python",
   "sourceType": "notebook"
  },
  "kernelspec": {
   "display_name": "house_prediction_germany_env",
   "language": "python",
   "name": "python3"
  },
  "language_info": {
   "codemirror_mode": {
    "name": "ipython",
    "version": 3
   },
   "file_extension": ".py",
   "mimetype": "text/x-python",
   "name": "python",
   "nbconvert_exporter": "python",
   "pygments_lexer": "ipython3",
   "version": "3.9.21"
  }
 },
 "nbformat": 4,
 "nbformat_minor": 4
}
